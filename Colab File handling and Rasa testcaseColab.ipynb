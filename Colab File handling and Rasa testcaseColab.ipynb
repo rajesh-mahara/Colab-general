{
  "nbformat": 4,
  "nbformat_minor": 0,
  "metadata": {
    "colab": {
      "name": "Copy of testcaseColab",
      "provenance": [],
      "collapsed_sections": [],
      "mount_file_id": "13W9wuFsjMJ9Z2-CEqfM7scAcOSD9c7sn",
      "authorship_tag": "ABX9TyPw2BZNLACK2ZiJpBVV6Gej",
      "include_colab_link": true
    },
    "kernelspec": {
      "name": "python3",
      "display_name": "Python 3"
    },
    "language_info": {
      "name": "python"
    },
    "accelerator": "GPU"
  },
  "cells": [
    {
      "cell_type": "markdown",
      "metadata": {
        "id": "view-in-github",
        "colab_type": "text"
      },
      "source": [
        "<a href=\"https://colab.research.google.com/github/rajesh-mahara/Colab-general/blob/file-handling/Colab%20File%20handling%20and%20Rasa%20testcaseColab.ipynb\" target=\"_parent\"><img src=\"https://colab.research.google.com/assets/colab-badge.svg\" alt=\"Open In Colab\"/></a>"
      ]
    },
    {
      "cell_type": "code",
      "execution_count": null,
      "metadata": {
        "id": "Led19iKvYh0k"
      },
      "outputs": [],
      "source": [
        "pip install rasa==2.2.5"
      ]
    },
    {
      "cell_type": "code",
      "source": [
        "pip install -U ipython"
      ],
      "metadata": {
        "id": "oxr-9rJAvaE3"
      },
      "execution_count": null,
      "outputs": []
    },
    {
      "cell_type": "code",
      "source": [
        "pip show rasa"
      ],
      "metadata": {
        "id": "Xt1QrzYgwBwo"
      },
      "execution_count": null,
      "outputs": []
    },
    {
      "cell_type": "code",
      "source": [
        "from google.colab import drive\n",
        "\n",
        "drive.mount('/content/gdrive')"
      ],
      "metadata": {
        "colab": {
          "base_uri": "https://localhost:8080/"
        },
        "id": "zSJ66hEO0pqh",
        "outputId": "0cb1168a-41ed-4ea6-aaba-85230c494bb1"
      },
      "execution_count": null,
      "outputs": [
        {
          "output_type": "stream",
          "name": "stdout",
          "text": [
            "Mounted at /content/gdrive\n"
          ]
        }
      ]
    },
    {
      "cell_type": "code",
      "source": [
        "!ls"
      ],
      "metadata": {
        "colab": {
          "base_uri": "https://localhost:8080/"
        },
        "id": "RBDE5WeE07Wc",
        "outputId": "22c33b0d-b6d7-469d-97dd-7d779e69e6b1"
      },
      "execution_count": null,
      "outputs": [
        {
          "output_type": "stream",
          "name": "stdout",
          "text": [
            "drive  gdrive  sample_data\n"
          ]
        }
      ]
    },
    {
      "cell_type": "code",
      "source": [
        "import os \n",
        "os.chdir('gdrive')"
      ],
      "metadata": {
        "id": "2cMJKuNQ2qki"
      },
      "execution_count": null,
      "outputs": []
    },
    {
      "cell_type": "code",
      "source": [
        "!ls"
      ],
      "metadata": {
        "colab": {
          "base_uri": "https://localhost:8080/"
        },
        "id": "CS4_Lq64yi3a",
        "outputId": "f4a21c12-e166-4154-8010-46a9bed6ab6c"
      },
      "execution_count": null,
      "outputs": [
        {
          "output_type": "stream",
          "name": "stdout",
          "text": [
            "MyDrive\n"
          ]
        }
      ]
    },
    {
      "cell_type": "code",
      "source": [
        "os.chdir('MyDrive')"
      ],
      "metadata": {
        "id": "_TbwxMU02z1x"
      },
      "execution_count": null,
      "outputs": []
    },
    {
      "cell_type": "code",
      "source": [
        ""
      ],
      "metadata": {
        "id": "Q0I0chQn23hb"
      },
      "execution_count": null,
      "outputs": []
    },
    {
      "cell_type": "code",
      "source": [
        "!rasa init"
      ],
      "metadata": {
        "id": "hMsdQTN-23lz"
      },
      "execution_count": null,
      "outputs": []
    },
    {
      "cell_type": "code",
      "source": [
        "!ls"
      ],
      "metadata": {
        "id": "_SfVAa7j23pp"
      },
      "execution_count": null,
      "outputs": []
    },
    {
      "cell_type": "code",
      "source": [
        "!rasa init"
      ],
      "metadata": {
        "id": "YXZVgOSv23tD"
      },
      "execution_count": null,
      "outputs": []
    },
    {
      "cell_type": "code",
      "source": [
        ""
      ],
      "metadata": {
        "id": "R1byg_EJwFZA"
      },
      "execution_count": null,
      "outputs": []
    },
    {
      "cell_type": "code",
      "source": [
        "os.chdir('rajesh1')"
      ],
      "metadata": {
        "id": "oPS4YAKbwI_4"
      },
      "execution_count": null,
      "outputs": []
    },
    {
      "cell_type": "code",
      "source": [
        ""
      ],
      "metadata": {
        "id": "Fo8mnL1f37_4"
      },
      "execution_count": null,
      "outputs": []
    }
  ]
}