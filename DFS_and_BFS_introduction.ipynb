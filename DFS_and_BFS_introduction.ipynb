{
 "cells": [
  {
   "cell_type": "code",
   "execution_count": 1,
   "id": "3cd99262",
   "metadata": {},
   "outputs": [],
   "source": [
    "model = {\"S\":[\"A\",\"B\",\"C\"],\n",
    "         \"A\":[\"S\",\"D\"],\n",
    "         \"B\":[\"S\",\"E\",\"D\",\"G\"],\n",
    "         \"C\":[\"S\",\"E\"],\n",
    "         \"D\":[\"A\",\"F\",\"B\"],\n",
    "         \"F\":[\"D\",\"G\",\"E\"],\n",
    "         \"E\":[\"C\",\"F\",\"H\",\"B\"],\n",
    "         \"H\":[\"E\",\"G\"],\n",
    "         \"G\":[\"F\",\"B\",\"H\"]\n",
    "        }"
   ]
  },
  {
   "cell_type": "code",
   "execution_count": 2,
   "id": "ba77da30",
   "metadata": {},
   "outputs": [
    {
     "data": {
      "text/plain": [
       "{'S': ['A', 'B', 'C'],\n",
       " 'A': ['S', 'D'],\n",
       " 'B': ['S', 'E', 'D', 'G'],\n",
       " 'C': ['S', 'E'],\n",
       " 'D': ['A', 'F', 'B'],\n",
       " 'F': ['D', 'G', 'E'],\n",
       " 'E': ['C', 'F', 'H', 'B'],\n",
       " 'H': ['E', 'G'],\n",
       " 'G': ['F', 'B', 'H']}"
      ]
     },
     "execution_count": 2,
     "metadata": {},
     "output_type": "execute_result"
    }
   ],
   "source": [
    "model"
   ]
  },
  {
   "cell_type": "code",
   "execution_count": 3,
   "id": "fb1bf7f6",
   "metadata": {},
   "outputs": [
    {
     "data": {
      "text/plain": [
       "['A', 'B', 'C']"
      ]
     },
     "execution_count": 3,
     "metadata": {},
     "output_type": "execute_result"
    }
   ],
   "source": [
    "model['S']"
   ]
  },
  {
   "cell_type": "markdown",
   "id": "e38fa00d",
   "metadata": {},
   "source": [
    "## <font color =\"red\">Normal BFS Traversal without Goal</font>"
   ]
  },
  {
   "cell_type": "code",
   "execution_count": 26,
   "id": "da9be62e",
   "metadata": {},
   "outputs": [
    {
     "name": "stdout",
     "output_type": "stream",
     "text": [
      "frontier  ['S']\n",
      "value  S\n",
      "explored  ['S']\n",
      "new_frontier  ['A', 'B', 'C']\n",
      "frontier before extending  []\n",
      "frontier after extending  ['A', 'B', 'C']\n",
      "\n",
      "frontier  ['A', 'B', 'C']\n",
      "value  A\n",
      "explored  ['S', 'A']\n",
      "new_frontier  ['D']\n",
      "frontier before extending  ['B', 'C']\n",
      "frontier after extending  ['B', 'C', 'D']\n",
      "\n",
      "frontier  ['B', 'C', 'D']\n",
      "value  B\n",
      "explored  ['S', 'A', 'B']\n",
      "new_frontier  ['E', 'G']\n",
      "frontier before extending  ['C', 'D']\n",
      "frontier after extending  ['C', 'D', 'E', 'G']\n",
      "\n",
      "frontier  ['C', 'D', 'E', 'G']\n",
      "value  C\n",
      "explored  ['S', 'A', 'B', 'C']\n",
      "new_frontier  []\n",
      "frontier before extending  ['D', 'E', 'G']\n",
      "frontier after extending  ['D', 'E', 'G']\n",
      "\n",
      "frontier  ['D', 'E', 'G']\n",
      "value  D\n",
      "explored  ['S', 'A', 'B', 'C', 'D']\n",
      "new_frontier  ['F']\n",
      "frontier before extending  ['E', 'G']\n",
      "frontier after extending  ['E', 'G', 'F']\n",
      "\n",
      "frontier  ['E', 'G', 'F']\n",
      "value  E\n",
      "explored  ['S', 'A', 'B', 'C', 'D', 'E']\n",
      "new_frontier  ['H']\n",
      "frontier before extending  ['G', 'F']\n",
      "frontier after extending  ['G', 'F', 'H']\n",
      "\n",
      "frontier  ['G', 'F', 'H']\n",
      "value  G\n",
      "explored  ['S', 'A', 'B', 'C', 'D', 'E', 'G']\n",
      "new_frontier  []\n",
      "frontier before extending  ['F', 'H']\n",
      "frontier after extending  ['F', 'H']\n",
      "\n",
      "frontier  ['F', 'H']\n",
      "value  F\n",
      "explored  ['S', 'A', 'B', 'C', 'D', 'E', 'G', 'F']\n",
      "new_frontier  []\n",
      "frontier before extending  ['H']\n",
      "frontier after extending  ['H']\n",
      "\n",
      "frontier  ['H']\n",
      "value  H\n",
      "explored  ['S', 'A', 'B', 'C', 'D', 'E', 'G', 'F', 'H']\n",
      "new_frontier  []\n",
      "frontier before extending  []\n",
      "frontier after extending  []\n",
      "\n",
      "\n",
      "['S', 'A', 'B', 'C', 'D', 'E', 'G', 'F', 'H']\n"
     ]
    }
   ],
   "source": [
    "initial = \"S\"\n",
    "\n",
    "frontier = [initial]\n",
    "explored = []\n",
    "\n",
    "while frontier:\n",
    "    \n",
    "    value = frontier.pop(0)\n",
    "    if value not in explored:\n",
    "        \n",
    "        explored.append(value)\n",
    "        new_frontier = [val for val in model[value] if val not in explored and val not in frontier]\n",
    "        frontier.extend(new_frontier)\n",
    "        \n",
    "print()        \n",
    "print(explored)"
   ]
  },
  {
   "cell_type": "code",
   "execution_count": null,
   "id": "70704784",
   "metadata": {},
   "outputs": [],
   "source": []
  },
  {
   "cell_type": "markdown",
   "id": "1bd8eb66",
   "metadata": {},
   "source": [
    "## <font color =\"red\">Normal DFS Traversal without Goal</font>"
   ]
  },
  {
   "cell_type": "code",
   "execution_count": 11,
   "id": "8b7fd78d",
   "metadata": {},
   "outputs": [
    {
     "data": {
      "text/plain": [
       "{'S': ['A', 'B', 'C'],\n",
       " 'A': ['S', 'D'],\n",
       " 'B': ['S', 'E', 'D', 'G'],\n",
       " 'C': ['S', 'E'],\n",
       " 'D': ['A', 'F', 'B'],\n",
       " 'F': ['D', 'G', 'E'],\n",
       " 'E': ['C', 'F', 'H', 'B'],\n",
       " 'H': ['E', 'G'],\n",
       " 'G': ['F', 'B', 'H']}"
      ]
     },
     "execution_count": 11,
     "metadata": {},
     "output_type": "execute_result"
    }
   ],
   "source": [
    "model"
   ]
  },
  {
   "cell_type": "code",
   "execution_count": 28,
   "id": "3b17358f",
   "metadata": {},
   "outputs": [
    {
     "data": {
      "text/plain": [
       "['C', 'B', 'A']"
      ]
     },
     "execution_count": 28,
     "metadata": {},
     "output_type": "execute_result"
    }
   ],
   "source": [
    "model['S'][::-1]"
   ]
  },
  {
   "cell_type": "code",
   "execution_count": null,
   "id": "7a5dda39",
   "metadata": {},
   "outputs": [],
   "source": []
  },
  {
   "cell_type": "code",
   "execution_count": 20,
   "id": "a2487532",
   "metadata": {},
   "outputs": [
    {
     "name": "stdout",
     "output_type": "stream",
     "text": [
      "frontier  ['S']\n",
      "Value  S\n",
      "explored  ['S']\n",
      "Frontier before extend  []\n",
      "Frontier after extend  ['C', 'B', 'A']\n",
      "\n",
      "frontier  ['C', 'B', 'A']\n",
      "Value  A\n",
      "explored  ['S', 'A']\n",
      "Frontier before extend  ['C', 'B']\n",
      "Frontier after extend  ['C', 'B', 'D']\n",
      "\n",
      "frontier  ['C', 'B', 'D']\n",
      "Value  D\n",
      "explored  ['S', 'A', 'D']\n",
      "Frontier before extend  ['C', 'B']\n",
      "Frontier after extend  ['C', 'B', 'F']\n",
      "\n",
      "frontier  ['C', 'B', 'F']\n",
      "Value  F\n",
      "explored  ['S', 'A', 'D', 'F']\n",
      "Frontier before extend  ['C', 'B']\n",
      "Frontier after extend  ['C', 'B', 'E', 'G']\n",
      "\n",
      "frontier  ['C', 'B', 'E', 'G']\n",
      "Value  G\n",
      "explored  ['S', 'A', 'D', 'F', 'G']\n",
      "Frontier before extend  ['C', 'B', 'E']\n",
      "Frontier after extend  ['C', 'B', 'E', 'H']\n",
      "\n",
      "frontier  ['C', 'B', 'E', 'H']\n",
      "Value  H\n",
      "explored  ['S', 'A', 'D', 'F', 'G', 'H']\n",
      "Frontier before extend  ['C', 'B', 'E']\n",
      "Frontier after extend  ['C', 'B', 'E']\n",
      "\n",
      "frontier  ['C', 'B', 'E']\n",
      "Value  E\n",
      "explored  ['S', 'A', 'D', 'F', 'G', 'H', 'E']\n",
      "Frontier before extend  ['C', 'B']\n",
      "Frontier after extend  ['C', 'B']\n",
      "\n",
      "frontier  ['C', 'B']\n",
      "Value  B\n",
      "explored  ['S', 'A', 'D', 'F', 'G', 'H', 'E', 'B']\n",
      "Frontier before extend  ['C']\n",
      "Frontier after extend  ['C']\n",
      "\n",
      "frontier  ['C']\n",
      "Value  C\n",
      "explored  ['S', 'A', 'D', 'F', 'G', 'H', 'E', 'B', 'C']\n",
      "Frontier before extend  []\n",
      "Frontier after extend  []\n",
      "\n",
      "\n",
      "['S', 'A', 'D', 'F', 'G', 'H', 'E', 'B', 'C']\n"
     ]
    }
   ],
   "source": [
    "initial = \"S\"\n",
    "frontier = [initial]\n",
    "explored = []\n",
    "while frontier:\n",
    "    print(\"frontier \", frontier)\n",
    "    value = frontier.pop()\n",
    "    if value not in explored:\n",
    "        #print(value,end=\" \")\n",
    "        print(\"Value \", value)\n",
    "        explored.append(value)\n",
    "        print(\"explored \", explored)\n",
    "        print(\"Frontier before extend \", frontier)\n",
    "        new_frontier = [val for val in model[value] if val not in explored and val not in frontier][::-1]\n",
    "        frontier.extend(new_frontier)\n",
    "        print(\"Frontier after extend \", frontier)\n",
    "        print()\n",
    "print()        \n",
    "print(explored)     \n",
    "        "
   ]
  },
  {
   "cell_type": "code",
   "execution_count": null,
   "id": "c0c15c9c",
   "metadata": {},
   "outputs": [],
   "source": []
  }
 ],
 "metadata": {
  "kernelspec": {
   "display_name": "Python 3 (ipykernel)",
   "language": "python",
   "name": "python3"
  },
  "language_info": {
   "codemirror_mode": {
    "name": "ipython",
    "version": 3
   },
   "file_extension": ".py",
   "mimetype": "text/x-python",
   "name": "python",
   "nbconvert_exporter": "python",
   "pygments_lexer": "ipython3",
   "version": "3.9.12"
  }
 },
 "nbformat": 4,
 "nbformat_minor": 5
}
